{
 "cells": [
  {
   "cell_type": "markdown",
   "metadata": {},
   "source": [
    "# Question 1- Bank Account"
   ]
  },
  {
   "cell_type": "code",
   "execution_count": 1,
   "metadata": {},
   "outputs": [
    {
     "name": "stdout",
     "output_type": "stream",
     "text": [
      "Enter amount to be deposited: 500\n",
      "\n",
      " Amount Deposited: 500.0\n",
      "Enter amount to be withdrawn: 1000\n",
      "\n",
      " You withdraw: 1000.0\n",
      "ownerName = Mitul\n",
      "Balance = 9500.0\n"
     ]
    }
   ],
   "source": [
    "class bankaccount():\n",
    "  def __init__(self,ownerName,Balance):\n",
    "    self.ownerName = ownerName\n",
    "    self.Balance = Balance \n",
    "  def deposit(self): \n",
    "        amount = float(input(\"Enter amount to be deposited: \")) \n",
    "        self.Balance += amount \n",
    "        print(\"\\n Amount Deposited:\", amount) \n",
    "  def withdraw(self): \n",
    "        amount = float(input(\"Enter amount to be withdrawn: \")) \n",
    "        if self.Balance >= amount: \n",
    "            self.Balance -= amount \n",
    "            print(\"\\n You withdraw:\", amount) \n",
    "        else: \n",
    "            print(\"\\n Insufficient balance  \") \n",
    "  def display(self): \n",
    "        print(\"ownerName =\", self.ownerName)\n",
    "        print(\"Balance =\", self.Balance)\n",
    "s = bankaccount(\"Mitul\",10000) \n",
    "s.deposit() \n",
    "s.withdraw() \n",
    "s.display()"
   ]
  },
  {
   "cell_type": "markdown",
   "metadata": {},
   "source": [
    "# Question 2- Cone "
   ]
  },
  {
   "cell_type": "code",
   "execution_count": 2,
   "metadata": {},
   "outputs": [
    {
     "data": {
      "text/plain": [
       "148.25752492425727"
      ]
     },
     "execution_count": 2,
     "metadata": {},
     "output_type": "execute_result"
    }
   ],
   "source": [
    "from math import pi\n",
    "from math import sqrt\n",
    "class Cone():\n",
    "  def __init__(self,Radius,Height):\n",
    "    self.Radius = Radius\n",
    "    self.Height = Height\n",
    "  def Volume(self):\n",
    "    return (1/3 *(pi * self.Radius * self.Radius * self.Height))\n",
    "  def Surfacearea(self):\n",
    "    return (pi * self.Radius * 2 + pi * self.Radius * sqrt(self.Height * 2 +self.Radius ** 2))\n",
    "s = Cone(4,40)\n",
    "s.Volume()\n",
    "s.Surfacearea()"
   ]
  },
  {
   "cell_type": "code",
   "execution_count": null,
   "metadata": {},
   "outputs": [],
   "source": []
  }
 ],
 "metadata": {
  "kernelspec": {
   "display_name": "Python 3",
   "language": "python",
   "name": "python3"
  },
  "language_info": {
   "codemirror_mode": {
    "name": "ipython",
    "version": 3
   },
   "file_extension": ".py",
   "mimetype": "text/x-python",
   "name": "python",
   "nbconvert_exporter": "python",
   "pygments_lexer": "ipython3",
   "version": "3.8.3"
  }
 },
 "nbformat": 4,
 "nbformat_minor": 4
}
