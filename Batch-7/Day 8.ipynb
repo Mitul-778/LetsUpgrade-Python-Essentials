{
 "cells": [
  {
   "cell_type": "markdown",
   "metadata": {},
   "source": [
    "# Question 1 - Decorator"
   ]
  },
  {
   "cell_type": "code",
   "execution_count": 1,
   "metadata": {},
   "outputs": [
    {
     "name": "stdout",
     "output_type": "stream",
     "text": [
      "wrapper function is called\n",
      "Inside wrapper to check odd/even\n",
      "The number is= 10\n",
      "It is  Even\n"
     ]
    }
   ],
   "source": [
    "#mydecorator.py\n",
    "def decorator(function):\n",
    "   def wrapper(num):\n",
    "        print(\"Inside wrapper to check odd/even\")\n",
    "        if num%2 == 0:\n",
    "            ret= \"Even\"\n",
    "        else:\n",
    "            ret= \"Odd!\"\n",
    "        function(num)        \n",
    "        return ret\n",
    "   print (\"wrapper function is called\")\n",
    "   return wrapper\n",
    "#@my_decorator\n",
    "def myfunction(x):\n",
    "    print(\"The number is=\",x)\n",
    "myfunction=decorator(myfunction)\n",
    "no=10\n",
    "print (\"It is \",myfunction(no))"
   ]
  },
  {
   "cell_type": "markdown",
   "metadata": {},
   "source": [
    "# Question 2 - Open a File"
   ]
  },
  {
   "cell_type": "code",
   "execution_count": 2,
   "metadata": {},
   "outputs": [
    {
     "name": "stdout",
     "output_type": "stream",
     "text": [
      "hello !!!\n",
      "Cannot write into the file\n"
     ]
    }
   ],
   "source": [
    "fr = open(\"Sample.txt\",\"r\")\n",
    "print(fr.read())\n",
    "try:\n",
    "  fr.write(\"This is Sample file\")\n",
    "except:\n",
    "  print(\"Cannot write into the file\")\n",
    "fr.close()"
   ]
  },
  {
   "cell_type": "code",
   "execution_count": null,
   "metadata": {},
   "outputs": [],
   "source": []
  }
 ],
 "metadata": {
  "kernelspec": {
   "display_name": "Python 3",
   "language": "python",
   "name": "python3"
  },
  "language_info": {
   "codemirror_mode": {
    "name": "ipython",
    "version": 3
   },
   "file_extension": ".py",
   "mimetype": "text/x-python",
   "name": "python",
   "nbconvert_exporter": "python",
   "pygments_lexer": "ipython3",
   "version": "3.8.3"
  }
 },
 "nbformat": 4,
 "nbformat_minor": 4
}
